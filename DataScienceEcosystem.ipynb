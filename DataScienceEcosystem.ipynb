{
 "cells": [
  {
   "cell_type": "markdown",
   "id": "d71d257f-986e-4dfc-b6b7-c01bdf948335",
   "metadata": {},
   "source": [
    "#Data Science Tools and Ecosystem"
   ]
  },
  {
   "cell_type": "markdown",
   "id": "8c0cd8d9-ec81-4bb7-9681-707fa008426c",
   "metadata": {},
   "source": [
    "In this notebook, Data Science Tools and Ecosystem are summarized."
   ]
  },
  {
   "cell_type": "markdown",
   "id": "1c352bda-4452-4849-826b-a86888c499b5",
   "metadata": {},
   "source": [
    "Some of the commonly used languages that Data Scientists use are:\n",
    "1-Python\n",
    "2-R\n",
    "3-Julia"
   ]
  },
  {
   "cell_type": "markdown",
   "id": "1871b6c9-38f2-478b-ae9a-b396fb0b160d",
   "metadata": {},
   "source": [
    "#Data Science Tools\n",
    "---\n",
    "Jupyter Notebooks\n",
    "---\n",
    "GitHub\n",
    "---\n",
    "Watson Studio\n",
    "\n",
    "###Below are a few examples of evaluating arithmetic expressions in Python"
   ]
  },
  {
   "cell_type": "code",
   "execution_count": 2,
   "id": "210d0ad4-548d-41a9-9274-e1bc592e5884",
   "metadata": {},
   "outputs": [
    {
     "data": {
      "text/plain": [
       "17"
      ]
     },
     "execution_count": 2,
     "metadata": {},
     "output_type": "execute_result"
    }
   ],
   "source": [
    "#Simple arithmetic expression\n",
    "(3*4)+5"
   ]
  },
  {
   "cell_type": "code",
   "execution_count": 3,
   "id": "41bf962d-32dc-450a-92f7-7367e05ffd4a",
   "metadata": {},
   "outputs": [
    {
     "data": {
      "text/plain": [
       "3.3333333333333335"
      ]
     },
     "execution_count": 3,
     "metadata": {},
     "output_type": "execute_result"
    }
   ],
   "source": [
    "#minutes to hours conversion\n",
    "200/60"
   ]
  },
  {
   "cell_type": "markdown",
   "id": "342d7862-7203-427e-bd09-9a2f555c0ce9",
   "metadata": {},
   "source": [
    "**Objectives**\n",
    "-Common Languages for Data Science\n",
    "-Common Tools for Data Science\n",
    "-Simple arithmetic expressions with Python"
   ]
  },
  {
   "cell_type": "markdown",
   "id": "d2b04ec1-fca5-4aea-9418-5fe38afabec0",
   "metadata": {},
   "source": [
    "##Author\n",
    "Mina Cansu Demirel"
   ]
  }
 ],
 "metadata": {
  "kernelspec": {
   "display_name": "Python",
   "language": "python",
   "name": "conda-env-python-py"
  },
  "language_info": {
   "codemirror_mode": {
    "name": "ipython",
    "version": 3
   },
   "file_extension": ".py",
   "mimetype": "text/x-python",
   "name": "python",
   "nbconvert_exporter": "python",
   "pygments_lexer": "ipython3",
   "version": "3.7.12"
  }
 },
 "nbformat": 4,
 "nbformat_minor": 5
}
